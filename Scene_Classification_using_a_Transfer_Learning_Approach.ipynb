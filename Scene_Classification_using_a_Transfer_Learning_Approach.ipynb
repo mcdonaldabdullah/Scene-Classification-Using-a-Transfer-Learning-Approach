{
  "nbformat": 4,
  "nbformat_minor": 0,
  "metadata": {
    "colab": {
      "name": "Abdullah McDonald - Advanced Machine Learning Project.ipynb",
      "provenance": [],
      "collapsed_sections": [
        "VEJxI9xqPqTl",
        "A_9h4e1KJtbv",
        "zQTz66iSLLF4",
        "3DR5lEejQB0w"
      ],
      "machine_shape": "hm"
    },
    "kernelspec": {
      "name": "python3",
      "display_name": "Python 3"
    },
    "accelerator": "TPU"
  },
  "cells": [
    {
      "cell_type": "markdown",
      "metadata": {
        "id": "7BMXyR_cHyAM",
        "colab_type": "text"
      },
      "source": [
        "# Scene Classification"
      ]
    },
    {
      "cell_type": "markdown",
      "metadata": {
        "id": "VEJxI9xqPqTl",
        "colab_type": "text"
      },
      "source": [
        "# Importing and Getting Dataset"
      ]
    },
    {
      "cell_type": "markdown",
      "metadata": {
        "id": "zzW9uRzkIJYA",
        "colab_type": "text"
      },
      "source": [
        "We begin by first importing all needed libraries and then we get the dataset from the Kaggle webiste. To access the dataset from the Kaggle website we need a username and key. This is why we download the 'kaggle.json' file."
      ]
    },
    {
      "cell_type": "code",
      "metadata": {
        "id": "Ls-EhXlwHi6l",
        "colab_type": "code",
        "outputId": "2e35f8c0-2fbe-4a79-9815-98b4a65606eb",
        "colab": {
          "base_uri": "https://localhost:8080/",
          "height": 34
        }
      },
      "source": [
        "import numpy as np\n",
        "import matplotlib.pyplot as plt\n",
        "import os\n",
        "import random\n",
        "from pathlib import Path\n",
        "from keras.preprocessing import image\n",
        "\n",
        "import tensorflow as tf\n",
        "from tensorflow import keras\n",
        "\n",
        "from tensorflow.keras.layers import Flatten, Dense, Dropout, GlobalAveragePooling2D\n",
        "from keras.layers.convolutional import Convolution2D\n",
        "from keras.layers.convolutional import MaxPooling2D, AveragePooling2D, ZeroPadding2D\n",
        "from tensorflow.keras import Model\n",
        "from tensorflow.keras.layers import Dropout, Input\n",
        "from tensorflow.keras import regularizers\n",
        "from tensorflow.keras.models import Sequential, load_model\n",
        "from tensorflow.keras.layers import concatenate\n",
        "from tensorflow.keras.layers import BatchNormalization, Activation, Add\n",
        "from tensorflow.keras.initializers import glorot_uniform"
      ],
      "execution_count": 0,
      "outputs": [
        {
          "output_type": "stream",
          "text": [
            "Using TensorFlow backend.\n"
          ],
          "name": "stderr"
        }
      ]
    },
    {
      "cell_type": "code",
      "metadata": {
        "id": "t1jSXXl9WeLO",
        "colab_type": "code",
        "outputId": "20077eaf-b6c3-494e-a4a6-02517c56fd0a",
        "colab": {
          "base_uri": "https://localhost:8080/",
          "height": 204
        }
      },
      "source": [
        "#installs kaggle API\n",
        "!pip install kaggle"
      ],
      "execution_count": 0,
      "outputs": [
        {
          "output_type": "stream",
          "text": [
            "Requirement already satisfied: kaggle in /usr/local/lib/python3.6/dist-packages (1.5.6)\n",
            "Requirement already satisfied: tqdm in /usr/local/lib/python3.6/dist-packages (from kaggle) (4.41.1)\n",
            "Requirement already satisfied: six>=1.10 in /usr/local/lib/python3.6/dist-packages (from kaggle) (1.12.0)\n",
            "Requirement already satisfied: python-slugify in /usr/local/lib/python3.6/dist-packages (from kaggle) (4.0.0)\n",
            "Requirement already satisfied: urllib3<1.25,>=1.21.1 in /usr/local/lib/python3.6/dist-packages (from kaggle) (1.24.3)\n",
            "Requirement already satisfied: python-dateutil in /usr/local/lib/python3.6/dist-packages (from kaggle) (2.8.1)\n",
            "Requirement already satisfied: requests in /usr/local/lib/python3.6/dist-packages (from kaggle) (2.23.0)\n",
            "Requirement already satisfied: certifi in /usr/local/lib/python3.6/dist-packages (from kaggle) (2020.4.5.1)\n",
            "Requirement already satisfied: text-unidecode>=1.3 in /usr/local/lib/python3.6/dist-packages (from python-slugify->kaggle) (1.3)\n",
            "Requirement already satisfied: idna<3,>=2.5 in /usr/local/lib/python3.6/dist-packages (from requests->kaggle) (2.9)\n",
            "Requirement already satisfied: chardet<4,>=3.0.2 in /usr/local/lib/python3.6/dist-packages (from requests->kaggle) (3.0.4)\n"
          ],
          "name": "stdout"
        }
      ]
    },
    {
      "cell_type": "code",
      "metadata": {
        "id": "njQvk0cYWezK",
        "colab_type": "code",
        "outputId": "98210457-957c-4014-c97a-e47a12c888d6",
        "colab": {
          "resources": {
            "http://localhost:8080/nbextensions/google.colab/files.js": {
              "data": "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",
              "ok": true,
              "headers": [
                [
                  "content-type",
                  "application/javascript"
                ]
              ],
              "status": 200,
              "status_text": ""
            }
          },
          "base_uri": "https://localhost:8080/",
          "height": 91
        }
      },
      "source": [
        "#this gets the 'kaggle.json' file that contains the username and key to access the Kaggle dataset.\n",
        "from google.colab import files\n",
        "files.upload() #once executing this cell, click on the 'Choose Files' option and then select the downloaded 'kaggle.json' file "
      ],
      "execution_count": 0,
      "outputs": [
        {
          "output_type": "display_data",
          "data": {
            "text/html": [
              "\n",
              "     <input type=\"file\" id=\"files-097fd8ef-b4c0-41e5-9849-efb70a7667de\" name=\"files[]\" multiple disabled />\n",
              "     <output id=\"result-097fd8ef-b4c0-41e5-9849-efb70a7667de\">\n",
              "      Upload widget is only available when the cell has been executed in the\n",
              "      current browser session. Please rerun this cell to enable.\n",
              "      </output>\n",
              "      <script src=\"/nbextensions/google.colab/files.js\"></script> "
            ],
            "text/plain": [
              "<IPython.core.display.HTML object>"
            ]
          },
          "metadata": {
            "tags": []
          }
        },
        {
          "output_type": "stream",
          "text": [
            "Saving kaggle.json to kaggle (1).json\n"
          ],
          "name": "stdout"
        },
        {
          "output_type": "execute_result",
          "data": {
            "text/plain": [
              "{'kaggle.json': b'{\"username\":\"abdullahmcdonald\",\"key\":\"807b23f25196dd273b239e0ea4e8393f\"}'}"
            ]
          },
          "metadata": {
            "tags": []
          },
          "execution_count": 3
        }
      ]
    },
    {
      "cell_type": "code",
      "metadata": {
        "id": "o5CjLHiOWfOJ",
        "colab_type": "code",
        "colab": {}
      },
      "source": [
        "#this stores the 'kaggle.json' file in the folder called kaggle\n",
        "!mkdir -p ~/.kaggle/\n",
        "!cp kaggle.json ~/.kaggle/\n",
        "\n",
        "#change the permission\n",
        "!chmod 600 ~/.kaggle/kaggle.json"
      ],
      "execution_count": 0,
      "outputs": []
    },
    {
      "cell_type": "code",
      "metadata": {
        "id": "nfVd20aeZJDG",
        "colab_type": "code",
        "outputId": "5d1d5e41-8288-43d1-a9b9-174ecc9fc283",
        "colab": {
          "base_uri": "https://localhost:8080/",
          "height": 34
        }
      },
      "source": [
        "#downloading Kaggle dataset\n",
        "!kaggle datasets download -d puneet6060/intel-image-classification"
      ],
      "execution_count": 0,
      "outputs": [
        {
          "output_type": "stream",
          "text": [
            "intel-image-classification.zip: Skipping, found more recently modified local copy (use --force to force download)\n"
          ],
          "name": "stdout"
        }
      ]
    },
    {
      "cell_type": "code",
      "metadata": {
        "id": "sxkda3DAZJbR",
        "colab_type": "code",
        "outputId": "c183eef4-6082-40d3-a02d-11bd5e484541",
        "colab": {
          "base_uri": "https://localhost:8080/",
          "height": 34
        }
      },
      "source": [
        "#since the Kaggle dataset is downloaded as a zip file, we need to extract it\n",
        "\n",
        "from zipfile import ZipFile\n",
        "file_name = \"intel-image-classification.zip\"\n",
        "\n",
        "with ZipFile(file_name, 'r') as zip:\n",
        "  zip.extractall()\n",
        "  print('Done')"
      ],
      "execution_count": 0,
      "outputs": [
        {
          "output_type": "stream",
          "text": [
            "Done\n"
          ],
          "name": "stdout"
        }
      ]
    },
    {
      "cell_type": "markdown",
      "metadata": {
        "id": "A_9h4e1KJtbv",
        "colab_type": "text"
      },
      "source": [
        "# Dataset Exploration"
      ]
    },
    {
      "cell_type": "markdown",
      "metadata": {
        "id": "nwoOxMZTKMcz",
        "colab_type": "text"
      },
      "source": [
        "In this section we display the original dataset's scene category distribution and the result after down-sampling each scene category to the scene category that contains the least number of images"
      ]
    },
    {
      "cell_type": "code",
      "metadata": {
        "id": "t1-zJV7sOcV2",
        "colab_type": "code",
        "colab": {}
      },
      "source": [
        "def dataset(path_folders_1, path_folders_2, folders_1, folders_2, size, downsampling=False):\n",
        "    image_data = []\n",
        "    labels = []\n",
        "    class_labels_dict = {'buildings':0, 'forest':1, 'glacier':2, 'sea':3, 'street':4, 'mountain':5}\n",
        "    num_images_per_class = []\n",
        "\n",
        "    #this gets the number of images in each class. We need this so that we can get the class with lowest number of images.\n",
        "    #We need this so that we can balance the classes.\n",
        "    for folder in path_folders_1:\n",
        "        counter = 0\n",
        "        for img_path in folder.glob(\"*.jpg\"):\n",
        "            counter+=1\n",
        "        num_images_per_class.append(counter)\n",
        "\n",
        "    min_num_images_to_read_1 = min(num_images_per_class)\n",
        "    \n",
        "\n",
        "    for folder in path_folders_2:\n",
        "        class_label = str(folder).split(\"/\")[-1]\n",
        "        counter = 0\n",
        "        \n",
        "        #iterate over folder and select the images in each folder\n",
        "        for img_path in folder.glob(\"*.jpg\"):\n",
        "            if (downsampling==True):\n",
        "                if (counter < min_num_images_to_read_1):\n",
        "                    img = image.load_img(img_path, target_size=size)\n",
        "                    img_array = image.img_to_array(img)\n",
        "                    image_data.append(img_array)\n",
        "                    labels.append(class_label)\n",
        "                    counter+=1\n",
        "            else:\n",
        "                img = image.load_img(img_path, target_size=size)\n",
        "                img_array = image.img_to_array(img)\n",
        "                image_data.append(img_array)\n",
        "                labels.append(class_label)\n",
        "                counter+=1\n",
        "           \n",
        "    num_images_per_class=[]\n",
        "    for folder in folders_1:\n",
        "        counter = 0\n",
        "        for img_path in folder.glob(\"*.jpg\"):\n",
        "            counter+=1\n",
        "        num_images_per_class.append(counter)\n",
        "\n",
        "    min_num_images_to_read_2 = min(num_images_per_class)\n",
        "    \n",
        "    for folder in folders_2:\n",
        "        class_label = str(folder).split(\"/\")[-1]\n",
        "        counter = 0\n",
        "        for img_path in folder.glob(\"*.jpg\"):\n",
        "            if (downsampling==True):\n",
        "                if (counter < min_num_images_to_read_2):\n",
        "                    img = image.load_img(img_path, target_size=size)\n",
        "                    img_array = image.img_to_array(img)\n",
        "                    image_data.append(img_array)\n",
        "                    labels.append(class_label)\n",
        "                    counter+=1\n",
        "            else:\n",
        "                img = image.load_img(img_path, target_size=size)\n",
        "                img_array = image.img_to_array(img)\n",
        "                image_data.append(img_array)\n",
        "                labels.append(class_label)\n",
        "                counter+=1\n",
        "\n",
        "    if (downsampling == True):            \n",
        "        return image_data, labels, min_num_images_to_read_1 + min_num_images_to_read_2\n",
        "    \n",
        "    return image_data, labels\n"
      ],
      "execution_count": 0,
      "outputs": []
    },
    {
      "cell_type": "code",
      "metadata": {
        "id": "ku6zUinEV6bp",
        "colab_type": "code",
        "colab": {}
      },
      "source": [
        "path = Path(r'/content/seg_train/seg_train')\n",
        "folders_path_1 = path.glob(\"*\")\n",
        "folders_path_2 = path.glob(\"*\")\n",
        "path_test = Path(r'/content/seg_test/seg_test')\n",
        "folder_test = path_test.glob(\"*\")\n",
        "folder_test_2 = path_test.glob(\"*\")\n",
        "X, Y = dataset(folders_path_1, folders_path_2, folder_test, folder_test_2, size=(150, 150))\n",
        "X = np.array(X)"
      ],
      "execution_count": 0,
      "outputs": []
    },
    {
      "cell_type": "code",
      "metadata": {
        "id": "k_Fe3drJKngN",
        "colab_type": "code",
        "outputId": "fb18d63b-f6eb-48a4-9c18-1dcbc4f3f815",
        "colab": {
          "base_uri": "https://localhost:8080/",
          "height": 584
        }
      },
      "source": [
        "print('Intel Scene Classification dataset contains\\n----------------\\n')\n",
        "\n",
        "print('%d images of size %dx%dx%d\\n'%(X.shape[0], X.shape[1], X.shape[2], X.shape[3]))\n",
        "\n",
        "plt.figure(figsize=(10,8))\n",
        "plt.hist(Y, np.linspace(-0.5, 6.5, 8), width=0.9)\n",
        "plt.xticks(np.linspace(0,5,6))\n",
        "plt.title(\"Class distribution in Intel Scene Classification dataset\")\n",
        "plt.savefig(\"class_distribution\", transparent=True)\n",
        "plt.show()\n"
      ],
      "execution_count": 0,
      "outputs": [
        {
          "output_type": "stream",
          "text": [
            "Intel Scene Classification dataset contains\n",
            "----------------\n",
            "\n",
            "17034 images of size 150x150x3\n",
            "\n"
          ],
          "name": "stdout"
        },
        {
          "output_type": "display_data",
          "data": {
            "image/png": "[encoded data removed]",
            "text/plain": [
              "<Figure size 720x576 with 1 Axes>"
            ]
          },
          "metadata": {
            "tags": [],
            "needs_background": "light"
          }
        }
      ]
    },
    {
      "cell_type": "markdown",
      "metadata": {
        "id": "JiMsMKvUQ4yf",
        "colab_type": "text"
      },
      "source": [
        "CLASS DISTRIBUTION AFTER DOWNSAMPLING"
      ]
    },
    {
      "cell_type": "code",
      "metadata": {
        "id": "2kqDoOkXQ0oe",
        "colab_type": "code",
        "colab": {}
      },
      "source": [
        "path = Path(r'/content/seg_train/seg_train')\n",
        "folders_path_1 = path.glob(\"*\")\n",
        "folders_path_2 = path.glob(\"*\")\n",
        "path_test = Path(r'/content/seg_test/seg_test')\n",
        "folder_test = path_test.glob(\"*\")\n",
        "folder_test_2 = path_test.glob(\"*\")\n",
        "X, Y, minimum = dataset(folders_path_1, folders_path_2, folder_test, folder_test_2, size=(150, 150), downsampling=True)\n",
        "X = np.array(X)"
      ],
      "execution_count": 0,
      "outputs": []
    },
    {
      "cell_type": "code",
      "metadata": {
        "id": "5AD-n3v8Q05Q",
        "colab_type": "code",
        "outputId": "52f9d782-2b22-4577-abaf-ac6c8a5058d3",
        "colab": {
          "base_uri": "https://localhost:8080/",
          "height": 584
        }
      },
      "source": [
        "print('After down-sampling the scene categories, the Intel Scene Classification dataset contains\\n----------------\\n')\n",
        "\n",
        "print('%d images of size %dx%dx%d with %d images per scene category\\n'%(X.shape[0], X.shape[1], X.shape[2], X.shape[3], minimum))\n",
        "\n",
        "plt.figure(figsize=(10,8))\n",
        "plt.hist(Y, np.linspace(-0.5, 6.5, 8), width=0.9)\n",
        "plt.xticks(np.linspace(0,5,6))\n",
        "plt.title(\"Class distribution in Intel Scene Classification dataset\")\n",
        "plt.savefig(\"class_distribution\", transparent=True)\n",
        "plt.show()"
      ],
      "execution_count": 0,
      "outputs": [
        {
          "output_type": "stream",
          "text": [
            "After down-sampling the scene categories, the Intel Scene Classification dataset contains\n",
            "----------------\n",
            "\n",
            "15768 images of size 150x150x3 with 2628 images per scene category\n",
            "\n"
          ],
          "name": "stdout"
        },
        {
          "output_type": "display_data",
          "data": {
            "image/png": "[encoded data removed]",
            "text/plain": [
              "<Figure size 720x576 with 1 Axes>"
            ]
          },
          "metadata": {
            "tags": [],
            "needs_background": "light"
          }
        }
      ]
    },
    {
      "cell_type": "code",
      "metadata": {
        "id": "-tFxAJMyRIww",
        "colab_type": "code",
        "colab": {}
      },
      "source": [
        ""
      ],
      "execution_count": 0,
      "outputs": []
    },
    {
      "cell_type": "markdown",
      "metadata": {
        "id": "zQTz66iSLLF4",
        "colab_type": "text"
      },
      "source": [
        "# Experiment 1"
      ]
    },
    {
      "cell_type": "markdown",
      "metadata": {
        "id": "XpotujBa9vKt",
        "colab_type": "text"
      },
      "source": [
        "Aim: Experiment 1 investigates whether data augmentation techniques can improve the classification accuracy of the ResNet model"
      ]
    },
    {
      "cell_type": "markdown",
      "metadata": {
        "id": "VhllYRA-LRmg",
        "colab_type": "text"
      },
      "source": [
        "The create_dataset function essentially creates the dataset for experiment 1. It takes as input 2 path folders (where the dataset is stored) and also takes in the size/resolution of the images that you want the dataset to contain. As output it creates arrays that contain the images and its scene category labels and also gives the number of images that each scene category contains"
      ]
    },
    {
      "cell_type": "code",
      "metadata": {
        "id": "b7KjiurmiPJp",
        "colab_type": "code",
        "colab": {}
      },
      "source": [
        "def create_dataset(path_folders_1, path_folders_2, size):\n",
        "    image_data = []\n",
        "    labels = []\n",
        "    class_labels_dict = {'buildings':0, 'forest':1, 'glacier':2, 'sea':3, 'street':4, 'mountain':5}\n",
        "    num_images_per_class = []\n",
        "\n",
        "    #this gets the number of images in each class. We need this so that we can get the class with lowest number of images.\n",
        "    #We need this so that we can balance the classes.\n",
        "    for folder in path_folders_1:\n",
        "        counter = 0\n",
        "        for img_path in folder.glob(\"*.jpg\"):\n",
        "            counter+=1\n",
        "        num_images_per_class.append(counter)\n",
        "    min_num_images_to_read = min(num_images_per_class)\n",
        "    \n",
        "    for folder in path_folders_2:\n",
        "        class_label = str(folder).split(\"/\")[-1]\n",
        "        counter = 0\n",
        "      \n",
        "        #iterate over folder and select the images in each folder\n",
        "        for img_path in folder.glob(\"*.jpg\"):\n",
        "            if (counter < min_num_images_to_read):\n",
        "              img = image.load_img(img_path, target_size=size)\n",
        "              img_array = image.img_to_array(img)\n",
        "              image_data.append(img_array)\n",
        "              labels.append(class_labels_dict[class_label])\n",
        "              counter+=1\n",
        "\n",
        "    return image_data, labels, min_num_images_to_read"
      ],
      "execution_count": 0,
      "outputs": []
    },
    {
      "cell_type": "markdown",
      "metadata": {
        "id": "5Vo2NdA5MRew",
        "colab_type": "text"
      },
      "source": [
        "The augment_data function does the data augmentation of the dataset. The only data augmentation technique that is used is the horizontal fip."
      ]
    },
    {
      "cell_type": "code",
      "metadata": {
        "id": "7G8tZiBmjm7n",
        "colab_type": "code",
        "colab": {}
      },
      "source": [
        "from keras.applications.vgg16 import preprocess_input\n",
        "\n",
        "path_folders = Path(r'/content/seg_train/seg_train')\n",
        "\n",
        "def augment_data(path_folders, size, preprocess):\n",
        "  if preprocess==True:\n",
        "    data_generator = image.ImageDataGenerator(horizontal_flip=True, preprocessing_function=preprocess_input)\n",
        "  else:\n",
        "    data_generator = image.ImageDataGenerator(horizontal_flip=True)\n",
        "  for folder in path_folders.glob('*'):\n",
        "    for img_path in folder.glob(\"*.jpg\"):\n",
        "          img = image.load_img(img_path, target_size=size)\n",
        "          img_array = image.img_to_array(img)\n",
        "          counter=0\n",
        "          img_array = img_array.reshape((1,) + img_array.shape)\n",
        "          for batch in data_generator.flow(img_array, batch_size=1, save_to_dir=folder, save_format='.jpg'):\n",
        "              counter+=1\n",
        "              if counter==1:\n",
        "                  break\n",
        "          img_array=[]\n",
        "  print(\"Done!\")"
      ],
      "execution_count": 0,
      "outputs": []
    },
    {
      "cell_type": "markdown",
      "metadata": {
        "id": "Pd82reIsM0cL",
        "colab_type": "text"
      },
      "source": [
        "Using the create_dataset and augment_data functions, we create 3 dataset:\n",
        "\n",
        "*   original dataset\n",
        "*   augmented dataset\n",
        "*   testing dataset"
      ]
    },
    {
      "cell_type": "code",
      "metadata": {
        "id": "yMNVHReLtRd4",
        "colab_type": "code",
        "colab": {}
      },
      "source": [
        "#creating original and test datasets\n",
        "path = Path(r'/content/seg_train/seg_train')\n",
        "folders_path_1 = path.glob(\"*\")\n",
        "folders_path_2 = path.glob(\"*\")\n",
        "train_X, train_Y, minimum_train = create_dataset(folders_path_1, folders_path_2, size=(100,100))\n",
        "\n",
        "path = Path(r'/content/seg_test/seg_test')\n",
        "folders_path_1 = path.glob(\"*\")\n",
        "folders_path_2 = path.glob(\"*\")\n",
        "X_test, Y_test, minimum_test = create_dataset(folders_path_1, folders_path_2, size=(100,100))"
      ],
      "execution_count": 0,
      "outputs": []
    },
    {
      "cell_type": "code",
      "metadata": {
        "id": "HvMnt4vFtRhm",
        "colab_type": "code",
        "outputId": "199fd1aa-1574-46a5-8416-48f9ea7d80d8",
        "colab": {
          "base_uri": "https://localhost:8080/",
          "height": 34
        }
      },
      "source": [
        "#we augment the data\n",
        "folder_path = Path(r'/content/seg_train/seg_train')\n",
        "augment_data(folder_path, size=(100, 100), preprocess=True)"
      ],
      "execution_count": 0,
      "outputs": [
        {
          "output_type": "stream",
          "text": [
            "Done!\n"
          ],
          "name": "stdout"
        }
      ]
    },
    {
      "cell_type": "code",
      "metadata": {
        "colab_type": "code",
        "id": "acFUihMvC2nf",
        "colab": {}
      },
      "source": [
        "#create augmented dataset\n",
        "path = Path(r'/content/seg_train/seg_train')\n",
        "folders_path_1 = path.glob(\"*\")\n",
        "folders_path_2 = path.glob(\"*\")\n",
        "augmented_train_X, augmented_train_Y, minimum_augmented_train = create_dataset(folders_path_1, folders_path_2, size=(100,100))"
      ],
      "execution_count": 0,
      "outputs": []
    },
    {
      "cell_type": "code",
      "metadata": {
        "id": "qfjKmbqct05K",
        "colab_type": "code",
        "colab": {}
      },
      "source": [
        "#creating numpy arrays for the datasets images and labels\n",
        "augmented_train_X = np.array(augmented_train_X)\n",
        "augmented_train_Y = np.array(augmented_train_Y).reshape(len(augmented_train_Y), 1)"
      ],
      "execution_count": 0,
      "outputs": []
    },
    {
      "cell_type": "code",
      "metadata": {
        "id": "EfjRK1DvI3wX",
        "colab_type": "code",
        "colab": {}
      },
      "source": [
        "#creating numpy arrays for the datasets images and labels\n",
        "train_X = np.array(train_X)\n",
        "train_Y = np.array(train_Y).reshape(len(train_Y), 1)\n",
        "X_test = np.array(X_test)\n",
        "Y_test = np.array(Y_test).reshape(len(Y_test), 1)"
      ],
      "execution_count": 0,
      "outputs": []
    },
    {
      "cell_type": "markdown",
      "metadata": {
        "id": "ilgmN675N12K",
        "colab_type": "text"
      },
      "source": [
        "We now look at the class distribution within the original dataset, augmented dataset and the tetsting dataset. We also notice the increase in the number of images in the augmented dataset"
      ]
    },
    {
      "cell_type": "code",
      "metadata": {
        "id": "gFiuQwTgLqqI",
        "colab_type": "code",
        "outputId": "f832c1a6-702c-404a-ae80-c1723b9af1fb",
        "colab": {
          "base_uri": "https://localhost:8080/",
          "height": 1000
        }
      },
      "source": [
        "print('Original training dataset contains:')\n",
        "\n",
        "print('%d images of size %dx%dx%d with %d images per scene category\\n'%(train_X.shape[0], train_X.shape[1], train_X.shape[2], train_X.shape[3], minimum_train))\n",
        "\n",
        "plt.figure(figsize=(10,8))\n",
        "plt.hist(train_Y, np.linspace(-0.5, 6.5, 8), width=0.9)\n",
        "plt.xticks(np.linspace(0,5,6))\n",
        "plt.title(\"Class distribution in Original Training dataset\")\n",
        "plt.savefig(\"class_distribution_train\", transparent=True)\n",
        "plt.show()\n",
        "\n",
        "print('Augmented training dataset contains:')\n",
        "\n",
        "print('%d images of size %dx%dx%d with %d images per scene category\\n'%(augmented_train_X.shape[0], augmented_train_X.shape[1], augmented_train_X.shape[2], augmented_train_X.shape[3], minimum_augmented_train))\n",
        "\n",
        "plt.figure(figsize=(10,8))\n",
        "plt.hist(augmented_train_Y, np.linspace(-0.5, 6.5, 8), width=0.9)\n",
        "plt.xticks(np.linspace(0,5,6))\n",
        "plt.title(\"Class distribution in Augmented Training dataset\")\n",
        "plt.savefig(\"class_distribution_augmented_train\", transparent=True)\n",
        "plt.show()\n",
        "\n",
        "print('Testing dataset contains:')\n",
        "\n",
        "print('%d images of size %dx%dx%d with %d images per scene category\\n'%(X_test.shape[0], X_test.shape[1], X_test.shape[2], X_test.shape[3], minimum_test))\n",
        "\n",
        "plt.figure(figsize=(10,8))\n",
        "plt.hist(Y_test, np.linspace(-0.5, 6.5, 8), width=0.9)\n",
        "plt.xticks(np.linspace(0,5,6))\n",
        "plt.title(\"Class distribution in Testing dataset\")\n",
        "plt.savefig(\"class_distribution_test\", transparent=True)\n",
        "plt.show()"
      ],
      "execution_count": 0,
      "outputs": [
        {
          "output_type": "stream",
          "text": [
            "Original training dataset contains:\n",
            "13146 images of size 100x100x3 with 2191 images per scene category\n",
            "\n"
          ],
          "name": "stdout"
        },
        {
          "output_type": "display_data",
          "data": {
            "image/png": "[encoded data removed]",
            "text/plain": [
              "<Figure size 720x576 with 1 Axes>"
            ]
          },
          "metadata": {
            "tags": [],
            "needs_background": "light"
          }
        },
        {
          "output_type": "stream",
          "text": [
            "Augmented training dataset contains:\n",
            "24948 images of size 100x100x3 with 4158 images per scene category\n",
            "\n"
          ],
          "name": "stdout"
        },
        {
          "output_type": "display_data",
          "data": {
            "image/png": "[encoded data removed]",
            "text/plain": [
              "<Figure size 720x576 with 1 Axes>"
            ]
          },
          "metadata": {
            "tags": [],
            "needs_background": "light"
          }
        },
        {
          "output_type": "stream",
          "text": [
            "Testing dataset contains:\n",
            "2622 images of size 100x100x3 with 437 images per scene category\n",
            "\n"
          ],
          "name": "stdout"
        },
        {
          "output_type": "display_data",
          "data": {
            "image/png": "[encoded data removed]",
            "text/plain": [
              "<Figure size 720x576 with 1 Axes>"
            ]
          },
          "metadata": {
            "tags": [],
            "needs_background": "light"
          }
        }
      ]
    },
    {
      "cell_type": "markdown",
      "metadata": {
        "id": "WsRHLfJMRCOJ",
        "colab_type": "text"
      },
      "source": [
        "Next we shuffle the original dataset, augmented dataset and testing dataset"
      ]
    },
    {
      "cell_type": "code",
      "metadata": {
        "id": "SLcVUlpWuRJr",
        "colab_type": "code",
        "colab": {}
      },
      "source": [
        "augmented_train_indices = np.arange(augmented_train_X.shape[0])\n",
        "np.random.shuffle(augmented_train_indices)"
      ],
      "execution_count": 0,
      "outputs": []
    },
    {
      "cell_type": "code",
      "metadata": {
        "id": "nPhpp_89I3sb",
        "colab_type": "code",
        "colab": {}
      },
      "source": [
        "train_indices = np.arange(train_X.shape[0])\n",
        "np.random.shuffle(train_indices)\n",
        "test_indices = np.arange(X_test.shape[0])\n",
        "np.random.shuffle(test_indices)"
      ],
      "execution_count": 0,
      "outputs": []
    },
    {
      "cell_type": "code",
      "metadata": {
        "id": "n5PVFPEEI3pR",
        "colab_type": "code",
        "colab": {}
      },
      "source": [
        "X_train = train_X[train_indices]\n",
        "Y_train = train_Y[train_indices]"
      ],
      "execution_count": 0,
      "outputs": []
    },
    {
      "cell_type": "code",
      "metadata": {
        "id": "LjC4-UKsuXpd",
        "colab_type": "code",
        "colab": {}
      },
      "source": [
        "augmented_X_train = augmented_train_X[augmented_train_indices]\n",
        "augmented_Y_train = augmented_train_Y[augmented_train_indices]"
      ],
      "execution_count": 0,
      "outputs": []
    },
    {
      "cell_type": "code",
      "metadata": {
        "id": "DBxWfhj8RqZ3",
        "colab_type": "code",
        "colab": {}
      },
      "source": [
        "X_test = X_test[test_indices]\n",
        "Y_test = Y_test[test_indices]"
      ],
      "execution_count": 0,
      "outputs": []
    },
    {
      "cell_type": "markdown",
      "metadata": {
        "id": "MsvylmvNRMsL",
        "colab_type": "text"
      },
      "source": [
        "Next, we create the ResNet model using the pretrained ResNet50 model"
      ]
    },
    {
      "cell_type": "code",
      "metadata": {
        "id": "r-q0yjnPj0uC",
        "colab_type": "code",
        "outputId": "ce3d81e4-5683-4135-b06a-a81bdd868532",
        "colab": {
          "base_uri": "https://localhost:8080/",
          "height": 51
        }
      },
      "source": [
        "from tensorflow.keras.applications.resnet50 import ResNet50\n",
        "from keras.layers import Convolution2D, MaxPooling2D\n",
        "\n",
        "#create the ResNet model by calling the ResNet50 method from the Keras API\n",
        "res_conv = ResNet50(include_top=False,\n",
        "                    weights='imagenet',\n",
        "                    input_tensor=None,\n",
        "                    input_shape=(100,100,3),\n",
        "                    pooling=None,classes=1000)\n",
        "model = Sequential()\n",
        "model.add(res_conv)\n",
        "\n",
        "#these convolutional layers are added to reduce the number of trainable parameters\n",
        "\n",
        "model.add(keras.layers.Convolution2D(64, (3, 3), padding='same', input_shape=(100,100,3), activation='relu'))\n",
        "model.add(keras.layers.Convolution2D(64, (3, 3), padding='same', activation='relu'))\n",
        "model.add(keras.layers.MaxPooling2D(pool_size=(2, 2)))\n",
        "model.add(keras.layers.Convolution2D(128, (3, 3), padding='same', activation='relu'))\n",
        "model.add(keras.layers.Convolution2D(128, (3, 3), padding='same', activation='relu'))\n",
        "model.add(keras.layers.MaxPooling2D(pool_size=(2, 2)))\n",
        "model.add(keras.layers.Convolution2D(128, (3, 3), padding='same', activation='relu'))\n",
        "model.add(keras.layers.Convolution2D(128, (3, 3), padding='same', activation='relu'))\n",
        "\n",
        "model.add(Flatten())\n",
        "model.add(Dense(1024, activation='relu'))\n",
        "model.add(Dropout(0.2))\n",
        "model.add(Dense(6, activation='softmax'))"
      ],
      "execution_count": 0,
      "outputs": [
        {
          "output_type": "stream",
          "text": [
            "Downloading data from https://storage.googleapis.com/tensorflow/keras-applications/resnet/resnet50_weights_tf_dim_ordering_tf_kernels_notop.h5\n",
            "94773248/94765736 [==============================] - 2s 0us/step\n"
          ],
          "name": "stdout"
        }
      ]
    },
    {
      "cell_type": "code",
      "metadata": {
        "colab_type": "code",
        "id": "g3PdK1pP6lpL",
        "colab": {}
      },
      "source": [
        "#we set all the layers from the imported ResNet50 model to trainable as we would like to train all the layers. \n",
        "#The imported ResNet50 model with its initialized ImageNet weights is only used as a starting point for our model \n",
        "for layer in res_conv.layers:\n",
        "    layer.trainable = True"
      ],
      "execution_count": 0,
      "outputs": []
    },
    {
      "cell_type": "code",
      "metadata": {
        "id": "VCZ5kHr6j0xv",
        "colab_type": "code",
        "colab": {}
      },
      "source": [
        "#compiling our model using the Sparse Categorical Crossentropy loss functions since our labels are integer values and not one-hot encoded. \n",
        "#The RMSprop optimization method is also used. All these hyper-parameters were obtained using a random search.  \n",
        "model.compile(loss='sparse_categorical_crossentropy', optimizer = tf.keras.optimizers.RMSprop(lr=0.0001), metrics=['accuracy'])"
      ],
      "execution_count": 0,
      "outputs": []
    },
    {
      "cell_type": "code",
      "metadata": {
        "id": "nJ8sG_0HnFQf",
        "colab_type": "code",
        "outputId": "60dc7148-8934-4950-8117-1d96695a4d26",
        "colab": {
          "base_uri": "https://localhost:8080/",
          "height": 595
        }
      },
      "source": [
        "#we print out the model summary to see the structure of our model and the number of trainable parameters\n",
        "model.summary()"
      ],
      "execution_count": 0,
      "outputs": [
        {
          "output_type": "stream",
          "text": [
            "Model: \"sequential\"\n",
            "_________________________________________________________________\n",
            "Layer (type)                 Output Shape              Param #   \n",
            "=================================================================\n",
            "resnet50 (Model)             (None, 4, 4, 2048)        23587712  \n",
            "_________________________________________________________________\n",
            "conv2d (Conv2D)              (None, 4, 4, 64)          1179712   \n",
            "_________________________________________________________________\n",
            "conv2d_1 (Conv2D)            (None, 4, 4, 64)          36928     \n",
            "_________________________________________________________________\n",
            "max_pooling2d (MaxPooling2D) (None, 2, 2, 64)          0         \n",
            "_________________________________________________________________\n",
            "conv2d_2 (Conv2D)            (None, 2, 2, 128)         73856     \n",
            "_________________________________________________________________\n",
            "conv2d_3 (Conv2D)            (None, 2, 2, 128)         147584    \n",
            "_________________________________________________________________\n",
            "max_pooling2d_1 (MaxPooling2 (None, 1, 1, 128)         0         \n",
            "_________________________________________________________________\n",
            "conv2d_4 (Conv2D)            (None, 1, 1, 128)         147584    \n",
            "_________________________________________________________________\n",
            "conv2d_5 (Conv2D)            (None, 1, 1, 128)         147584    \n",
            "_________________________________________________________________\n",
            "flatten (Flatten)            (None, 128)               0         \n",
            "_________________________________________________________________\n",
            "dense (Dense)                (None, 1024)              132096    \n",
            "_________________________________________________________________\n",
            "dropout (Dropout)            (None, 1024)              0         \n",
            "_________________________________________________________________\n",
            "dense_1 (Dense)              (None, 6)                 6150      \n",
            "=================================================================\n",
            "Total params: 25,459,206\n",
            "Trainable params: 25,406,086\n",
            "Non-trainable params: 53,120\n",
            "_________________________________________________________________\n"
          ],
          "name": "stdout"
        }
      ]
    },
    {
      "cell_type": "code",
      "metadata": {
        "id": "ZUE3XKX0j0sW",
        "colab_type": "code",
        "outputId": "98c64414-065f-45ce-f400-20455c37ea39",
        "colab": {
          "base_uri": "https://localhost:8080/",
          "height": 357
        }
      },
      "source": [
        "#fitting our model with the original dataset\n",
        "#only 10 epochs are used as the number of parameters are a lot and Google Colab using allows a model to run for a certain amount of time\n",
        "history =model.fit(X_train, Y_train,\n",
        "                            batch_size=16,\n",
        "                            epochs=10,\n",
        "                            validation_split=0.2,\n",
        "                            verbose=1)"
      ],
      "execution_count": 0,
      "outputs": [
        {
          "output_type": "stream",
          "text": [
            "Epoch 1/10\n",
            "658/658 [==============================] - 265s 402ms/step - loss: 0.6281 - accuracy: 0.7739 - val_loss: 2.3833 - val_accuracy: 0.6810\n",
            "Epoch 2/10\n",
            "658/658 [==============================] - 264s 401ms/step - loss: 0.3007 - accuracy: 0.9059 - val_loss: 0.5412 - val_accuracy: 0.8650\n",
            "Epoch 3/10\n",
            "658/658 [==============================] - 264s 401ms/step - loss: 0.2186 - accuracy: 0.9364 - val_loss: 1.0497 - val_accuracy: 0.8654\n",
            "Epoch 4/10\n",
            "658/658 [==============================] - 267s 406ms/step - loss: 0.1740 - accuracy: 0.9494 - val_loss: 0.5259 - val_accuracy: 0.9042\n",
            "Epoch 5/10\n",
            "658/658 [==============================] - 266s 405ms/step - loss: 0.1274 - accuracy: 0.9631 - val_loss: 0.9279 - val_accuracy: 0.8962\n",
            "Epoch 6/10\n",
            "658/658 [==============================] - 267s 405ms/step - loss: 0.1170 - accuracy: 0.9699 - val_loss: 2.0681 - val_accuracy: 0.8084\n",
            "Epoch 7/10\n",
            "658/658 [==============================] - 263s 400ms/step - loss: 0.0968 - accuracy: 0.9761 - val_loss: 1.0553 - val_accuracy: 0.8791\n",
            "Epoch 8/10\n",
            "658/658 [==============================] - 265s 402ms/step - loss: 0.1012 - accuracy: 0.9756 - val_loss: 0.7394 - val_accuracy: 0.8981\n",
            "Epoch 9/10\n",
            "658/658 [==============================] - 267s 406ms/step - loss: 0.0854 - accuracy: 0.9801 - val_loss: 0.9650 - val_accuracy: 0.8635\n",
            "Epoch 10/10\n",
            "658/658 [==============================] - 266s 405ms/step - loss: 0.0709 - accuracy: 0.9847 - val_loss: 1.0295 - val_accuracy: 0.8844\n"
          ],
          "name": "stdout"
        }
      ]
    },
    {
      "cell_type": "code",
      "metadata": {
        "id": "E3Gkm0SCxnhD",
        "colab_type": "code",
        "outputId": "828d33ea-3c8c-4559-cb57-15f4194334c1",
        "colab": {
          "base_uri": "https://localhost:8080/",
          "height": 295
        }
      },
      "source": [
        "#we plot the results of our training\n",
        "plt.plot(history.history['accuracy'])\n",
        "plt.plot(history.history['val_accuracy'], )\n",
        "plt.title('Classification Accuracy')\n",
        "plt.ylabel('accuracy')\n",
        "plt.yticks(np.linspace(0, 1.0, 11))\n",
        "plt.xlabel('epoch')\n",
        "plt.legend(['train', 'validation'], loc='lower right')\n",
        "plt.savefig(\"dataset_acc\", transparent=True)\n",
        "plt.show()"
      ],
      "execution_count": 0,
      "outputs": [
        {
          "output_type": "display_data",
          "data": {
            "image/png": "[encoded data removed]",
            "text/plain": [
              "<Figure size 432x288 with 1 Axes>"
            ]
          },
          "metadata": {
            "tags": [],
            "needs_background": "light"
          }
        }
      ]
    },
    {
      "cell_type": "code",
      "metadata": {
        "id": "KtAfe6t1j0pY",
        "colab_type": "code",
        "outputId": "4d8d3d42-5cc7-466f-d762-2078985124ab",
        "colab": {
          "base_uri": "https://localhost:8080/",
          "height": 51
        }
      },
      "source": [
        "#evaluating our model that was trained on the original dataset, on the test dataset \n",
        "model.evaluate(X_test, Y_test)"
      ],
      "execution_count": 0,
      "outputs": [
        {
          "output_type": "stream",
          "text": [
            "82/82 [==============================] - 10s 118ms/step - loss: 1.1023 - accuracy: 0.8780\n"
          ],
          "name": "stdout"
        },
        {
          "output_type": "execute_result",
          "data": {
            "text/plain": [
              "[1.1023170948028564, 0.8779557347297668]"
            ]
          },
          "metadata": {
            "tags": []
          },
          "execution_count": 34
        }
      ]
    },
    {
      "cell_type": "code",
      "metadata": {
        "id": "Ql43KQd6JP5V",
        "colab_type": "code",
        "colab": {}
      },
      "source": [
        "#we reset the layers on the ResNet50 model to allow it to retrain on the augmented dataset\n",
        "for layer in res_conv.layers:\n",
        "    layer.trainable = True"
      ],
      "execution_count": 0,
      "outputs": []
    },
    {
      "cell_type": "code",
      "metadata": {
        "id": "E0BUck-dJP2x",
        "colab_type": "code",
        "colab": {}
      },
      "source": [
        "model.compile(loss='sparse_categorical_crossentropy', optimizer = tf.keras.optimizers.RMSprop(lr=1e-4), metrics=['accuracy'])"
      ],
      "execution_count": 0,
      "outputs": []
    },
    {
      "cell_type": "code",
      "metadata": {
        "id": "VpdDHmt4u9ti",
        "colab_type": "code",
        "outputId": "d7a14999-4588-4bb3-9387-17240739f6c1",
        "colab": {
          "base_uri": "https://localhost:8080/",
          "height": 357
        }
      },
      "source": [
        "#fitting our model with the augmented dataset\n",
        "#only 10 epochs are used as the number of parameters are a lot and Google Colab using allows a model to run for a certain amount of time\n",
        "history1 =model.fit(augmented_X_train, augmented_Y_train,\n",
        "                            batch_size=16,\n",
        "                            epochs=10,\n",
        "                            validation_split=0.2,\n",
        "                            verbose=1)"
      ],
      "execution_count": 0,
      "outputs": [
        {
          "output_type": "stream",
          "text": [
            "Epoch 1/10\n",
            "1248/1248 [==============================] - 500s 401ms/step - loss: 0.2266 - accuracy: 0.9384 - val_loss: 0.1938 - val_accuracy: 0.9451\n",
            "Epoch 2/10\n",
            "1248/1248 [==============================] - 501s 401ms/step - loss: 0.1468 - accuracy: 0.9631 - val_loss: 0.2034 - val_accuracy: 0.9457\n",
            "Epoch 3/10\n",
            "1248/1248 [==============================] - 497s 398ms/step - loss: 0.1170 - accuracy: 0.9731 - val_loss: 0.4415 - val_accuracy: 0.9557\n",
            "Epoch 4/10\n",
            "1248/1248 [==============================] - 498s 399ms/step - loss: 0.1099 - accuracy: 0.9785 - val_loss: 0.2166 - val_accuracy: 0.9583\n",
            "Epoch 5/10\n",
            "1248/1248 [==============================] - 499s 400ms/step - loss: 0.0961 - accuracy: 0.9805 - val_loss: 0.4874 - val_accuracy: 0.9497\n",
            "Epoch 6/10\n",
            "1248/1248 [==============================] - 500s 401ms/step - loss: 0.1019 - accuracy: 0.9830 - val_loss: 0.6802 - val_accuracy: 0.9333\n",
            "Epoch 7/10\n",
            "1248/1248 [==============================] - 500s 401ms/step - loss: 0.0912 - accuracy: 0.9837 - val_loss: 1.0193 - val_accuracy: 0.9202\n",
            "Epoch 8/10\n",
            "1248/1248 [==============================] - 499s 399ms/step - loss: 0.0912 - accuracy: 0.9855 - val_loss: 0.5509 - val_accuracy: 0.9479\n",
            "Epoch 9/10\n",
            "1248/1248 [==============================] - 500s 401ms/step - loss: 0.1087 - accuracy: 0.9838 - val_loss: 0.5053 - val_accuracy: 0.9447\n",
            "Epoch 10/10\n",
            "1248/1248 [==============================] - 499s 400ms/step - loss: 0.0936 - accuracy: 0.9858 - val_loss: 2.7328 - val_accuracy: 0.9301\n"
          ],
          "name": "stdout"
        }
      ]
    },
    {
      "cell_type": "code",
      "metadata": {
        "id": "ihBaA6V4Uml_",
        "colab_type": "code",
        "colab": {}
      },
      "source": [
        "#we plot the results of our training\n",
        "plt.plot(history1.history['accuracy'])\n",
        "plt.plot(history1.history['val_accuracy'], )\n",
        "plt.title('Classification Accuracy')\n",
        "plt.ylabel('accuracy')\n",
        "plt.yticks(np.linspace(0, 1.0, 11))\n",
        "plt.xlabel('epoch')\n",
        "plt.legend(['augmented_train', 'augmented_validation'], loc='lower right')\n",
        "plt.savefig(\"augmented_dataset_acc\", transparent=True)\n",
        "plt.show()"
      ],
      "execution_count": 0,
      "outputs": []
    },
    {
      "cell_type": "code",
      "metadata": {
        "id": "D6nNqFsIvOq4",
        "colab_type": "code",
        "colab": {}
      },
      "source": [
        "#evaluating our model that was trained on the original dataset, on the test dataset\n",
        "model.evaluate(X_test, Y_test)"
      ],
      "execution_count": 0,
      "outputs": []
    },
    {
      "cell_type": "code",
      "metadata": {
        "id": "L3lRvUgnLVks",
        "colab_type": "code",
        "colab": {}
      },
      "source": [
        "#we now plot the training accuracy of the original and augmented datasets against each other to see which ones performed better\n",
        "plt.plot(history.history['accuracy'])\n",
        "plt.plot(history1.history['accuracy'])\n",
        "plt.title('Classification Accuracy')\n",
        "plt.ylabel('accuracy')\n",
        "plt.xlabel('epoch')\n",
        "plt.yticks(np.linspace(0, 1.0, 11))\n",
        "plt.legend(['train', 'augmented_train'], loc='lower right')\n",
        "plt.savefig(\"dataset_comparison_acc\", transparent=True)\n",
        "plt.show()"
      ],
      "execution_count": 0,
      "outputs": []
    },
    {
      "cell_type": "code",
      "metadata": {
        "id": "rkDvMskTAhMv",
        "colab_type": "code",
        "colab": {}
      },
      "source": [
        "#we now plot the validation accuracy of the original and augmented datasets against each other to see which ones performed better\n",
        "plt.plot(history.history['val_accuracy'])\n",
        "plt.plot(history1.history['val_accuracy'])\n",
        "plt.title('Validation Classification Accuracy')\n",
        "plt.ylabel('accuracy')\n",
        "plt.xlabel('epoch')\n",
        "plt.yticks(np.linspace(0, 1.0, 11))\n",
        "plt.legend(['validation_train', 'validation_augmented_train'], loc='lower right')\n",
        "plt.savefig(\"dataset_comparison_val_acc\", transparent=True)\n",
        "plt.show()"
      ],
      "execution_count": 0,
      "outputs": []
    },
    {
      "cell_type": "markdown",
      "metadata": {
        "id": "oGoNGTLsXKdF",
        "colab_type": "text"
      },
      "source": [
        "Conclusion: Data augmentation techniques, specifically horizonatal flipping, increases the classification accuracy of the ResNet model. "
      ]
    },
    {
      "cell_type": "markdown",
      "metadata": {
        "id": "3DR5lEejQB0w",
        "colab_type": "text"
      },
      "source": [
        "# Experiment 2"
      ]
    },
    {
      "cell_type": "markdown",
      "metadata": {
        "id": "BQKqT-6tWnV1",
        "colab_type": "text"
      },
      "source": [
        "Aim: Experiment 2 investigates whether decreasing the size/resolution of the scene images lessens the emergence of objects detectors"
      ]
    },
    {
      "cell_type": "code",
      "metadata": {
        "id": "HB0xBqjJ5AA7",
        "colab_type": "code",
        "colab": {}
      },
      "source": [
        "def create_dataset(path_folders_1, path_folders_2, size):\n",
        "    image_data = []\n",
        "    labels = []\n",
        "    class_labels_dict = {'buildings':0, 'forest':1, 'glacier':2, 'sea':3, 'street':4, 'mountain':5}\n",
        "    num_images_per_class = []\n",
        "\n",
        "    #this gets the number of images in each class. We need this so that we can get the class with lowest number of images.\n",
        "    #We need this so that we can balance the classes.\n",
        "    for folder in path_folders_1:\n",
        "        counter = 0\n",
        "        for img_path in folder.glob(\"*.jpg\"):\n",
        "            counter+=1\n",
        "        num_images_per_class.append(counter)\n",
        "    min_num_images_to_read = min(num_images_per_class)\n",
        "    \n",
        "    for folder in path_folders_2:\n",
        "        class_label = str(folder).split(\"/\")[-1]\n",
        "        counter = 0\n",
        "      \n",
        "        #iterate over folder and select the images in each folder\n",
        "        for img_path in folder.glob(\"*.jpg\"):\n",
        "            if (counter < min_num_images_to_read):\n",
        "              img = image.load_img(img_path, target_size=size)\n",
        "              img_array = image.img_to_array(img)\n",
        "              image_data.append(img_array)\n",
        "              labels.append(class_labels_dict[class_label])\n",
        "              counter+=1\n",
        "\n",
        "    return image_data, labels, min_num_images_to_read"
      ],
      "execution_count": 0,
      "outputs": []
    },
    {
      "cell_type": "code",
      "metadata": {
        "id": "xC8mY8XTXwnB",
        "colab_type": "code",
        "colab": {}
      },
      "source": [
        "#we first import the library that contains the ResNet50 model\n",
        "from tensorflow.keras.applications.resnet50 import ResNet50\n",
        "from keras.layers import Convolution2D"
      ],
      "execution_count": 0,
      "outputs": []
    },
    {
      "cell_type": "code",
      "metadata": {
        "id": "pKZay1TIALUl",
        "colab_type": "code",
        "colab": {}
      },
      "source": [
        "#ResNet function takes as input parameters the image size/resolution that the ResNet should take and \n",
        "#produces as output the ResNet model for that image size/resolution\n",
        "\n",
        "def ResNet(size, pooling_method=None):\n",
        "    res_conv = ResNet50(include_top=False,\n",
        "                        weights='imagenet',\n",
        "                        input_tensor=None,\n",
        "                        input_shape=(size,size,3),\n",
        "                        pooling=pooling_method,\n",
        "                        classes=1000)\n",
        "    model = Sequential()\n",
        "    model.add(res_conv)\n",
        "    \n",
        "    if pooling_method == None:\n",
        "        model.add(keras.layers.Convolution2D(64, (3, 3), padding='same', activation='relu'))\n",
        "        model.add(keras.layers.Convolution2D(64, (3, 3), padding='same', activation='relu'))\n",
        "        model.add(keras.layers.Convolution2D(128, (3, 3), padding='same', activation='relu'))\n",
        "        model.add(keras.layers.Convolution2D(128, (3, 3), padding='same', activation='relu'))\n",
        "        model.add(keras.layers.Convolution2D(128, (3, 3), padding='same', activation='relu'))\n",
        "        model.add(keras.layers.Convolution2D(128, (3, 3), padding='same', activation='relu'))\n",
        "    \n",
        "    model.add(Flatten())\n",
        "    model.add(Dense(1024, activation='relu'))\n",
        "    model.add(Dropout(0.2))\n",
        "    model.add(Dense(6, activation='softmax'))\n",
        "\n",
        "    for layer in res_conv.layers:\n",
        "        layer.trainable = True\n",
        "    \n",
        "    return model"
      ],
      "execution_count": 0,
      "outputs": []
    },
    {
      "cell_type": "code",
      "metadata": {
        "id": "uHjJBPAaXwgY",
        "colab_type": "code",
        "colab": {}
      },
      "source": [
        "size_accuracy=[]\n",
        "size_loss=[]\n",
        "size_history_of_model=[]\n",
        "\n",
        "#the size_experiment function creates the 4 datasets for the 4 different images sizes/resolutions. \n",
        "#It then produces a summary of the model that is used for the experiment and trains the model\n",
        "\n",
        "def size_experiment(size_length):\n",
        "  \n",
        "    path = Path(r'/content/seg_train/seg_train')\n",
        "    folders_path_1 = path.glob(\"*\")\n",
        "    folders_path_2 = path.glob(\"*\")\n",
        "    train_X, train_Y, m_train = create_dataset(folders_path_1, folders_path_2, size=(size_length,size_length))\n",
        "\n",
        "    path = Path(r'/content/seg_test/seg_test')\n",
        "    folders_path_1 = path.glob(\"*\")\n",
        "    folders_path_2 = path.glob(\"*\")\n",
        "    X_test, Y_test, m_test= create_dataset(folders_path_1, folders_path_2, size=(size_length,size_length))\n",
        "\n",
        "    train_X = np.array(train_X)\n",
        "    train_Y = np.array(train_Y).reshape(len(train_Y), 1)\n",
        "    X_test = np.array(X_test)\n",
        "    Y_test = np.array(Y_test).reshape(len(Y_test), 1)\n",
        "    \n",
        "    train_indices = np.arange(train_X.shape[0])\n",
        "    np.random.shuffle(train_indices)\n",
        "    test_indices = np.arange(X_test.shape[0])\n",
        "    np.random.shuffle(test_indices)\n",
        "    \n",
        "    X_train = train_X[train_indices]\n",
        "    Y_train = train_Y[train_indices]\n",
        "    X_test = X_test[test_indices]\n",
        "    Y_test = Y_test[test_indices]\n",
        "\n",
        "    resnet_model = ResNet(size_length, pooling_method=None)\n",
        "    \n",
        "    resnet_model.compile(loss='sparse_categorical_crossentropy', optimizer = tf.keras.optimizers.RMSprop(lr=1e-4), metrics=['accuracy']) \n",
        "    \n",
        "    resnet_model.summary()\n",
        "\n",
        "    history = resnet_model.fit(X_train, Y_train,\n",
        "                            batch_size=8,\n",
        "                            epochs=7,\n",
        "                            validation_split=0.25,\n",
        "                            verbose=1)\n",
        "    \n",
        "\n",
        "    acc, lss = resnet_model.evaluate(X_test, Y_test)\n",
        "    size_history_of_model.append(history)\n",
        "    size_accuracy.append(acc)\n",
        "    size_loss.append(lss)\n",
        "    "
      ],
      "execution_count": 0,
      "outputs": []
    },
    {
      "cell_type": "code",
      "metadata": {
        "id": "tn4R-6UBXwe7",
        "colab_type": "code",
        "colab": {}
      },
      "source": [
        "size_experiment(75)"
      ],
      "execution_count": 0,
      "outputs": []
    },
    {
      "cell_type": "code",
      "metadata": {
        "id": "HEf2oq3K-sfI",
        "colab_type": "code",
        "outputId": "c9027de4-9790-444e-ac76-9d91d61b9289",
        "colab": {
          "base_uri": "https://localhost:8080/",
          "height": 295
        }
      },
      "source": [
        "#we plot the results of the model\n",
        "\n",
        "hist_1 = size_history_of_model[0]\n",
        "\n",
        "plt.plot(hist_1.history['accuracy'])\n",
        "plt.plot(hist_1.history['val_accuracy'])\n",
        "plt.title('Size 75x75 Classification Accuracy')\n",
        "plt.ylabel('accuracy')\n",
        "plt.xlabel('epoch')\n",
        "plt.yticks(np.linspace(0, 1.0, 11))\n",
        "plt.legend(['augmented_train', 'augmented_validation'])\n",
        "plt.savefig(\"size_experiment_1_acc_copy\", transparent=True)\n",
        "plt.show()"
      ],
      "execution_count": 0,
      "outputs": [
        {
          "output_type": "display_data",
          "data": {
            "image/png": "[encoded data removed]",
            "text/plain": [
              "<Figure size 432x288 with 1 Axes>"
            ]
          },
          "metadata": {
            "tags": [],
            "needs_background": "light"
          }
        }
      ]
    },
    {
      "cell_type": "code",
      "metadata": {
        "id": "1W_kfqIADJag",
        "colab_type": "code",
        "outputId": "7331e6c2-f13b-4d14-f1e4-9fb5b1b3a909",
        "colab": {
          "base_uri": "https://localhost:8080/",
          "height": 782
        }
      },
      "source": [
        "size_experiment(100)"
      ],
      "execution_count": 0,
      "outputs": [
        {
          "output_type": "stream",
          "text": [
            "Model: \"sequential_2\"\n",
            "_________________________________________________________________\n",
            "Layer (type)                 Output Shape              Param #   \n",
            "=================================================================\n",
            "resnet50 (Model)             (None, 4, 4, 2048)        23587712  \n",
            "_________________________________________________________________\n",
            "conv2d_12 (Conv2D)           (None, 4, 4, 64)          1179712   \n",
            "_________________________________________________________________\n",
            "conv2d_13 (Conv2D)           (None, 4, 4, 64)          36928     \n",
            "_________________________________________________________________\n",
            "conv2d_14 (Conv2D)           (None, 4, 4, 128)         73856     \n",
            "_________________________________________________________________\n",
            "conv2d_15 (Conv2D)           (None, 4, 4, 128)         147584    \n",
            "_________________________________________________________________\n",
            "conv2d_16 (Conv2D)           (None, 4, 4, 128)         147584    \n",
            "_________________________________________________________________\n",
            "conv2d_17 (Conv2D)           (None, 4, 4, 128)         147584    \n",
            "_________________________________________________________________\n",
            "flatten_2 (Flatten)          (None, 2048)              0         \n",
            "_________________________________________________________________\n",
            "dense_4 (Dense)              (None, 1024)              2098176   \n",
            "_________________________________________________________________\n",
            "dropout_2 (Dropout)          (None, 1024)              0         \n",
            "_________________________________________________________________\n",
            "dense_5 (Dense)              (None, 6)                 6150      \n",
            "=================================================================\n",
            "Total params: 27,425,286\n",
            "Trainable params: 27,372,166\n",
            "Non-trainable params: 53,120\n",
            "_________________________________________________________________\n",
            "Epoch 1/7\n",
            "1233/1233 [==============================] - 486s 394ms/step - loss: 0.6201 - accuracy: 0.7948 - val_loss: 1.0120 - val_accuracy: 0.7597\n",
            "Epoch 2/7\n",
            "1233/1233 [==============================] - 482s 391ms/step - loss: 0.4093 - accuracy: 0.8806 - val_loss: 0.6596 - val_accuracy: 0.8710\n",
            "Epoch 3/7\n",
            "1233/1233 [==============================] - 444s 360ms/step - loss: 0.3267 - accuracy: 0.9123 - val_loss: 0.4921 - val_accuracy: 0.8953\n",
            "Epoch 4/7\n",
            "1233/1233 [==============================] - 427s 346ms/step - loss: 0.2823 - accuracy: 0.9244 - val_loss: 1.4958 - val_accuracy: 0.7514\n",
            "Epoch 5/7\n",
            "1233/1233 [==============================] - 429s 348ms/step - loss: 0.2385 - accuracy: 0.9390 - val_loss: 0.5494 - val_accuracy: 0.8969\n",
            "Epoch 6/7\n",
            "1233/1233 [==============================] - 447s 363ms/step - loss: 0.2342 - accuracy: 0.9506 - val_loss: 0.9830 - val_accuracy: 0.8944\n",
            "Epoch 7/7\n",
            "1233/1233 [==============================] - 469s 381ms/step - loss: 0.2332 - accuracy: 0.9573 - val_loss: 1.2075 - val_accuracy: 0.8068\n",
            "82/82 [==============================] - 12s 149ms/step - loss: 1.2356 - accuracy: 0.8105\n"
          ],
          "name": "stdout"
        }
      ]
    },
    {
      "cell_type": "code",
      "metadata": {
        "id": "35ToPUZO_Wlb",
        "colab_type": "code",
        "outputId": "2b919182-6f16-45ec-a679-6b2200e7e816",
        "colab": {
          "base_uri": "https://localhost:8080/",
          "height": 295
        }
      },
      "source": [
        "#we plot the results of the model\n",
        "hist_1 = size_history_of_model[1]\n",
        "\n",
        "plt.plot(hist_1.history['accuracy'])\n",
        "plt.plot(hist_1.history['val_accuracy'])\n",
        "plt.title('Size 100x100 Classification Accuracy')\n",
        "plt.ylabel('accuracy')\n",
        "plt.xlabel('epoch')\n",
        "plt.yticks(np.linspace(0, 1.0, 11))\n",
        "plt.legend(['train', 'validation'])\n",
        "plt.savefig(\"size_experiment_2_acc_copy\", transparent=True)\n",
        "plt.show()"
      ],
      "execution_count": 0,
      "outputs": [
        {
          "output_type": "display_data",
          "data": {
            "image/png": "[encoded data removed]",
            "text/plain": [
              "<Figure size 432x288 with 1 Axes>"
            ]
          },
          "metadata": {
            "tags": [],
            "needs_background": "light"
          }
        }
      ]
    },
    {
      "cell_type": "code",
      "metadata": {
        "id": "FBkE5YEjDJ_O",
        "colab_type": "code",
        "outputId": "4da61837-1660-457e-af4c-0d88f201bf5e",
        "colab": {
          "base_uri": "https://localhost:8080/",
          "height": 782
        }
      },
      "source": [
        "size_experiment(125)"
      ],
      "execution_count": 0,
      "outputs": [
        {
          "output_type": "stream",
          "text": [
            "Model: \"sequential_3\"\n",
            "_________________________________________________________________\n",
            "Layer (type)                 Output Shape              Param #   \n",
            "=================================================================\n",
            "resnet50 (Model)             (None, 4, 4, 2048)        23587712  \n",
            "_________________________________________________________________\n",
            "conv2d_18 (Conv2D)           (None, 4, 4, 64)          1179712   \n",
            "_________________________________________________________________\n",
            "conv2d_19 (Conv2D)           (None, 4, 4, 64)          36928     \n",
            "_________________________________________________________________\n",
            "conv2d_20 (Conv2D)           (None, 4, 4, 128)         73856     \n",
            "_________________________________________________________________\n",
            "conv2d_21 (Conv2D)           (None, 4, 4, 128)         147584    \n",
            "_________________________________________________________________\n",
            "conv2d_22 (Conv2D)           (None, 4, 4, 128)         147584    \n",
            "_________________________________________________________________\n",
            "conv2d_23 (Conv2D)           (None, 4, 4, 128)         147584    \n",
            "_________________________________________________________________\n",
            "flatten_3 (Flatten)          (None, 2048)              0         \n",
            "_________________________________________________________________\n",
            "dense_6 (Dense)              (None, 1024)              2098176   \n",
            "_________________________________________________________________\n",
            "dropout_3 (Dropout)          (None, 1024)              0         \n",
            "_________________________________________________________________\n",
            "dense_7 (Dense)              (None, 6)                 6150      \n",
            "=================================================================\n",
            "Total params: 27,425,286\n",
            "Trainable params: 27,372,166\n",
            "Non-trainable params: 53,120\n",
            "_________________________________________________________________\n",
            "Epoch 1/7\n",
            "1233/1233 [==============================] - 540s 438ms/step - loss: 0.5990 - accuracy: 0.8091 - val_loss: 2.1427 - val_accuracy: 0.6927\n",
            "Epoch 2/7\n",
            "1233/1233 [==============================] - 537s 435ms/step - loss: 0.3856 - accuracy: 0.8836 - val_loss: 0.4106 - val_accuracy: 0.8938\n",
            "Epoch 3/7\n",
            "1233/1233 [==============================] - 506s 411ms/step - loss: 0.3287 - accuracy: 0.9132 - val_loss: 0.6575 - val_accuracy: 0.8722\n",
            "Epoch 4/7\n",
            "1233/1233 [==============================] - 517s 420ms/step - loss: 0.2690 - accuracy: 0.9319 - val_loss: 3.1873 - val_accuracy: 0.8083\n",
            "Epoch 5/7\n",
            "1233/1233 [==============================] - 539s 437ms/step - loss: 0.2461 - accuracy: 0.9444 - val_loss: 5.0535 - val_accuracy: 0.8016\n",
            "Epoch 6/7\n",
            "1233/1233 [==============================] - 543s 440ms/step - loss: 0.2458 - accuracy: 0.9492 - val_loss: 1.8168 - val_accuracy: 0.8883\n",
            "Epoch 7/7\n",
            "1233/1233 [==============================] - 537s 436ms/step - loss: 0.2252 - accuracy: 0.9547 - val_loss: 1.7904 - val_accuracy: 0.8847\n",
            "82/82 [==============================] - 15s 183ms/step - loss: 1.6209 - accuracy: 0.8818\n"
          ],
          "name": "stdout"
        }
      ]
    },
    {
      "cell_type": "code",
      "metadata": {
        "id": "TEzlO_noZckz",
        "colab_type": "code",
        "outputId": "1c511d01-93f9-4ce6-e0f9-ea0feeac1dbe",
        "colab": {
          "base_uri": "https://localhost:8080/",
          "height": 295
        }
      },
      "source": [
        "#we plot the results of the model\n",
        "hist_1 = size_history_of_model[2]\n",
        "\n",
        "plt.plot(hist_1.history['accuracy'])\n",
        "plt.plot(hist_1.history['val_accuracy'])\n",
        "plt.title('Size 125x125 Classification Accuracy')\n",
        "plt.ylabel('accuracy')\n",
        "plt.xlabel('epoch')\n",
        "plt.yticks(np.linspace(0, 1.0, 11))\n",
        "plt.legend(['train', 'validation'])\n",
        "plt.savefig(\"size_experiment_3_acc\", transparent=True)\n",
        "plt.show()"
      ],
      "execution_count": 0,
      "outputs": [
        {
          "output_type": "display_data",
          "data": {
            "image/png": "[encoded data removed]",
            "text/plain": [
              "<Figure size 432x288 with 1 Axes>"
            ]
          },
          "metadata": {
            "tags": [],
            "needs_background": "light"
          }
        }
      ]
    },
    {
      "cell_type": "code",
      "metadata": {
        "id": "Xqn3MFM_DJ8b",
        "colab_type": "code",
        "outputId": "21e572e5-2ef7-474b-8f78-528a83ee24ec",
        "colab": {
          "base_uri": "https://localhost:8080/",
          "height": 782
        }
      },
      "source": [
        "size_experiment(150)"
      ],
      "execution_count": 0,
      "outputs": [
        {
          "output_type": "stream",
          "text": [
            "Model: \"sequential_2\"\n",
            "_________________________________________________________________\n",
            "Layer (type)                 Output Shape              Param #   \n",
            "=================================================================\n",
            "resnet50 (Model)             (None, 5, 5, 2048)        23587712  \n",
            "_________________________________________________________________\n",
            "conv2d_12 (Conv2D)           (None, 5, 5, 64)          1179712   \n",
            "_________________________________________________________________\n",
            "conv2d_13 (Conv2D)           (None, 5, 5, 64)          36928     \n",
            "_________________________________________________________________\n",
            "conv2d_14 (Conv2D)           (None, 5, 5, 128)         73856     \n",
            "_________________________________________________________________\n",
            "conv2d_15 (Conv2D)           (None, 5, 5, 128)         147584    \n",
            "_________________________________________________________________\n",
            "conv2d_16 (Conv2D)           (None, 5, 5, 128)         147584    \n",
            "_________________________________________________________________\n",
            "conv2d_17 (Conv2D)           (None, 5, 5, 128)         147584    \n",
            "_________________________________________________________________\n",
            "flatten_2 (Flatten)          (None, 3200)              0         \n",
            "_________________________________________________________________\n",
            "dense_4 (Dense)              (None, 1024)              3277824   \n",
            "_________________________________________________________________\n",
            "dropout_2 (Dropout)          (None, 1024)              0         \n",
            "_________________________________________________________________\n",
            "dense_5 (Dense)              (None, 6)                 6150      \n",
            "=================================================================\n",
            "Total params: 28,604,934\n",
            "Trainable params: 28,551,814\n",
            "Non-trainable params: 53,120\n",
            "_________________________________________________________________\n",
            "Epoch 1/7\n",
            "1233/1233 [==============================] - 669s 542ms/step - loss: 0.5689 - accuracy: 0.8175 - val_loss: 1.2206 - val_accuracy: 0.8302\n",
            "Epoch 2/7\n",
            "1233/1233 [==============================] - 670s 543ms/step - loss: 0.3618 - accuracy: 0.8938 - val_loss: 1.8375 - val_accuracy: 0.7983\n",
            "Epoch 3/7\n",
            "1233/1233 [==============================] - 672s 545ms/step - loss: 0.3135 - accuracy: 0.9178 - val_loss: 0.6948 - val_accuracy: 0.8887\n",
            "Epoch 4/7\n",
            "1233/1233 [==============================] - 678s 550ms/step - loss: 0.2763 - accuracy: 0.9313 - val_loss: 0.5942 - val_accuracy: 0.8978\n",
            "Epoch 5/7\n",
            "1233/1233 [==============================] - 673s 546ms/step - loss: 0.2469 - accuracy: 0.9388 - val_loss: 1.1996 - val_accuracy: 0.8896\n",
            "Epoch 6/7\n",
            "1233/1233 [==============================] - 671s 544ms/step - loss: 0.2445 - accuracy: 0.9475 - val_loss: 1.4693 - val_accuracy: 0.8914\n",
            "Epoch 7/7\n",
            "1233/1233 [==============================] - 680s 552ms/step - loss: 0.2269 - accuracy: 0.9570 - val_loss: 1.4823 - val_accuracy: 0.9030\n",
            "82/82 [==============================] - 21s 260ms/step - loss: 1.3884 - accuracy: 0.9020\n"
          ],
          "name": "stdout"
        }
      ]
    },
    {
      "cell_type": "code",
      "metadata": {
        "id": "rXO57uyiZdQ-",
        "colab_type": "code",
        "outputId": "a36cd1bb-a44f-46b8-f731-542be1c81c16",
        "colab": {
          "base_uri": "https://localhost:8080/",
          "height": 295
        }
      },
      "source": [
        "#we plot the results of the model\n",
        "hist_1 = size_history_of_model[3]\n",
        "\n",
        "plt.plot(hist_1.history['accuracy'])\n",
        "plt.plot(hist_1.history['val_accuracy'])\n",
        "plt.title('Size 150x150 Classification Accuracy')\n",
        "plt.ylabel('accuracy')\n",
        "plt.xlabel('epoch')\n",
        "plt.yticks(np.linspace(0, 1.0, 11))\n",
        "plt.legend(['train', 'validation'])\n",
        "plt.savefig(\"size_experiment_4_acc\", transparent=True)\n",
        "plt.show()"
      ],
      "execution_count": 0,
      "outputs": [
        {
          "output_type": "display_data",
          "data": {
            "image/png": "[encoded data removed]",
            "text/plain": [
              "<Figure size 432x288 with 1 Axes>"
            ]
          },
          "metadata": {
            "tags": [],
            "needs_background": "light"
          }
        }
      ]
    },
    {
      "cell_type": "markdown",
      "metadata": {
        "id": "nj2SC2u4Xszy",
        "colab_type": "text"
      },
      "source": [
        "Conclusion: Decreasing the image resolution/size of the scene images doesn't lessen the emergence of object detectors"
      ]
    },
    {
      "cell_type": "markdown",
      "metadata": {
        "id": "dQ7a6cDbQYcm",
        "colab_type": "text"
      },
      "source": [
        "# Experiment 3"
      ]
    },
    {
      "cell_type": "markdown",
      "metadata": {
        "id": "cdQxM_6aYWdL",
        "colab_type": "text"
      },
      "source": [
        "Aim: Experiment investigates whether pooling methods such as Average Pooling and Max Pooling can increase the classification accuracy of the ResNet model"
      ]
    },
    {
      "cell_type": "code",
      "metadata": {
        "id": "sJDOJIK-54uq",
        "colab_type": "code",
        "colab": {}
      },
      "source": [
        "def create_dataset(path_folders_1, path_folders_2, size):\n",
        "    image_data = []\n",
        "    labels = []\n",
        "    class_labels_dict = {'buildings':0, 'forest':1, 'glacier':2, 'sea':3, 'street':4, 'mountain':5}\n",
        "    num_images_per_class = []\n",
        "\n",
        "    #this gets the number of images in each class. We need this so that we can get the class with lowest number of images.\n",
        "    #We need this so that we can balance the classes.\n",
        "    for folder in path_folders_1:\n",
        "        counter = 0\n",
        "        for img_path in folder.glob(\"*.jpg\"):\n",
        "            counter+=1\n",
        "        num_images_per_class.append(counter)\n",
        "    min_num_images_to_read = min(num_images_per_class)\n",
        "    \n",
        "    for folder in path_folders_2:\n",
        "        class_label = str(folder).split(\"/\")[-1]\n",
        "        counter = 0\n",
        "      \n",
        "        #iterate over folder and select the images in each folder\n",
        "        for img_path in folder.glob(\"*.jpg\"):\n",
        "            if (counter < min_num_images_to_read):\n",
        "              img = image.load_img(img_path, target_size=size)\n",
        "              img_array = image.img_to_array(img)\n",
        "              image_data.append(img_array)\n",
        "              labels.append(class_labels_dict[class_label])\n",
        "              counter+=1\n",
        "\n",
        "    return image_data, labels, min_num_images_to_read"
      ],
      "execution_count": 0,
      "outputs": []
    },
    {
      "cell_type": "code",
      "metadata": {
        "id": "V-xfANsx6JbZ",
        "colab_type": "code",
        "colab": {}
      },
      "source": [
        "#we first import the library that contains the ResNet50 model\n",
        "from tensorflow.keras.applications.resnet50 import ResNet50\n",
        "from keras.layers import Convolution2D"
      ],
      "execution_count": 0,
      "outputs": []
    },
    {
      "cell_type": "code",
      "metadata": {
        "id": "p5gQIdgjQU-X",
        "colab_type": "code",
        "colab": {}
      },
      "source": [
        "#this is the same ResNet function from Experiment 2 and was just copied and pasted here for convenience\n",
        "def ResNet(size, pooling_method=None):\n",
        "    res_conv = ResNet50(include_top=False,\n",
        "                        weights='imagenet',\n",
        "                        input_tensor=None,\n",
        "                        input_shape=(size,size,3),\n",
        "                        pooling=pooling_method,\n",
        "                        classes=1000)\n",
        "    model = Sequential()\n",
        "    model.add(res_conv)\n",
        "    \n",
        "    if pooling_method == None:\n",
        "        model.add(keras.layers.Convolution2D(64, (3, 3), padding='same', activation='relu'))\n",
        "        model.add(keras.layers.Convolution2D(64, (3, 3), padding='same', activation='relu'))\n",
        "        model.add(keras.layers.Convolution2D(128, (3, 3), padding='same', activation='relu'))\n",
        "        model.add(keras.layers.Convolution2D(128, (3, 3), padding='same', activation='relu'))\n",
        "        model.add(keras.layers.Convolution2D(128, (3, 3), padding='same', activation='relu'))\n",
        "        model.add(keras.layers.Convolution2D(128, (3, 3), padding='same', activation='relu'))\n",
        "    \n",
        "    model.add(Flatten())\n",
        "    model.add(Dense(1024, activation='relu'))\n",
        "    model.add(Dropout(0.2))\n",
        "    model.add(Dense(6, activation='softmax'))\n",
        "\n",
        "    for layer in res_conv.layers:\n",
        "        layer.trainable = True\n",
        "    \n",
        "    return model"
      ],
      "execution_count": 0,
      "outputs": []
    },
    {
      "cell_type": "code",
      "metadata": {
        "id": "r4NyFu7QXwdf",
        "colab_type": "code",
        "colab": {}
      },
      "source": [
        "pool_accuracy=[]\n",
        "pool_loss=[]\n",
        "pool_history_of_model = []\n",
        "\n",
        "#creating the training and testing datasets\n",
        "path = Path(r'/content/seg_train/seg_train')\n",
        "folders_path_1 = path.glob(\"*\")\n",
        "folders_path_2 = path.glob(\"*\")\n",
        "train_X, train_Y, minimum_train = create_dataset(folders_path_1, folders_path_2, size=(100,100))\n",
        "\n",
        "path = Path(r'/content/seg_test/seg_test')\n",
        "folders_path_1 = path.glob(\"*\")\n",
        "folders_path_2 = path.glob(\"*\")\n",
        "X_test, Y_test, minimum_test = create_dataset(folders_path_1, folders_path_2, size=(100, 100))\n",
        "\n",
        "train_X = np.array(train_X)\n",
        "train_Y = np.array(train_Y).reshape(len(train_Y), 1)\n",
        "X_test = np.array(X_test)\n",
        "Y_test = np.array(Y_test).reshape(len(Y_test), 1)\n",
        "\n",
        "#shuffling the training and testing datasets\n",
        "train_indices = np.arange(train_X.shape[0])\n",
        "np.random.shuffle(train_indices)\n",
        "test_indices = np.arange(X_test.shape[0])\n",
        "np.random.shuffle(test_indices)\n",
        "\n",
        "X_train = train_X[train_indices]\n",
        "Y_train = train_Y[train_indices]\n",
        "X_test = X_test[test_indices]\n",
        "Y_test = Y_test[test_indices]"
      ],
      "execution_count": 0,
      "outputs": []
    },
    {
      "cell_type": "code",
      "metadata": {
        "id": "Z00FdztFPZCF",
        "colab_type": "code",
        "colab": {}
      },
      "source": [
        "#The pooling_experiment functions takes as input the type of pooling method that should be used with the ResNet and then trains it using this pooling method.\n",
        "#This function also evaluates the model on the testing set and displays the results thereof\n",
        "\n",
        "def pooling_experiment(pool):\n",
        "    \n",
        "    resnet_model = ResNet(100, pooling_method=pool)\n",
        "    \n",
        "    resnet_model.compile(loss='sparse_categorical_crossentropy', optimizer = tf.keras.optimizers.RMSprop(lr=1e-4), metrics=['accuracy']) \n",
        "    \n",
        "    resnet_model.summary()\n",
        "    history = resnet_model.fit(X_train, Y_train,\n",
        "                            batch_size=8,\n",
        "                            epochs=10,\n",
        "                            validation_split=0.25,\n",
        "                            verbose=1)\n",
        "    \n",
        "    pool_history_of_model.append(history)\n",
        "    acc, lss = resnet_model.evaluate(X_test, Y_test)\n",
        "    pool_accuracy.append(acc)\n",
        "    pool_loss.append(lss)\n"
      ],
      "execution_count": 0,
      "outputs": []
    },
    {
      "cell_type": "code",
      "metadata": {
        "id": "dccrcl4mRQoR",
        "colab_type": "code",
        "outputId": "0ddcd59c-2d37-4b00-e63f-7c8e0ed975a3",
        "colab": {
          "base_uri": "https://localhost:8080/",
          "height": 561
        }
      },
      "source": [
        "pooling_experiment(None)"
      ],
      "execution_count": 0,
      "outputs": [
        {
          "output_type": "stream",
          "text": [
            "Model: \"sequential\"\n",
            "_________________________________________________________________\n",
            "Layer (type)                 Output Shape              Param #   \n",
            "=================================================================\n",
            "resnet50 (Model)             (None, 4, 4, 2048)        23587712  \n",
            "_________________________________________________________________\n",
            "conv2d (Conv2D)              (None, 4, 4, 64)          1179712   \n",
            "_________________________________________________________________\n",
            "conv2d_1 (Conv2D)            (None, 4, 4, 64)          36928     \n",
            "_________________________________________________________________\n",
            "conv2d_2 (Conv2D)            (None, 4, 4, 128)         73856     \n",
            "_________________________________________________________________\n",
            "conv2d_3 (Conv2D)            (None, 4, 4, 128)         147584    \n",
            "_________________________________________________________________\n",
            "conv2d_4 (Conv2D)            (None, 4, 4, 128)         147584    \n",
            "_________________________________________________________________\n",
            "conv2d_5 (Conv2D)            (None, 4, 4, 128)         147584    \n",
            "_________________________________________________________________\n",
            "flatten (Flatten)            (None, 2048)              0         \n",
            "_________________________________________________________________\n",
            "dense (Dense)                (None, 1024)              2098176   \n",
            "_________________________________________________________________\n",
            "dropout (Dropout)            (None, 1024)              0         \n",
            "_________________________________________________________________\n",
            "dense_1 (Dense)              (None, 6)                 6150      \n",
            "=================================================================\n",
            "Total params: 27,425,286\n",
            "Trainable params: 27,372,166\n",
            "Non-trainable params: 53,120\n",
            "_________________________________________________________________\n",
            "Epoch 1/10\n",
            " 875/1233 [====================>.........] - ETA: 2:09 - loss: 0.6756 - accuracy: 0.7763"
          ],
          "name": "stdout"
        }
      ]
    },
    {
      "cell_type": "code",
      "metadata": {
        "id": "DxztA6P9XwcJ",
        "colab_type": "code",
        "outputId": "01feb3a3-0bc5-4728-ed37-69e9b4647f94",
        "colab": {
          "base_uri": "https://localhost:8080/",
          "height": 700
        }
      },
      "source": [
        "pooling_experiment('avg')"
      ],
      "execution_count": 0,
      "outputs": [
        {
          "output_type": "stream",
          "text": [
            "Model: \"sequential_2\"\n",
            "_________________________________________________________________\n",
            "Layer (type)                 Output Shape              Param #   \n",
            "=================================================================\n",
            "resnet50 (Model)             (None, 2048)              23587712  \n",
            "_________________________________________________________________\n",
            "flatten_2 (Flatten)          (None, 2048)              0         \n",
            "_________________________________________________________________\n",
            "dense_4 (Dense)              (None, 1024)              2098176   \n",
            "_________________________________________________________________\n",
            "dropout_2 (Dropout)          (None, 1024)              0         \n",
            "_________________________________________________________________\n",
            "dense_5 (Dense)              (None, 6)                 6150      \n",
            "=================================================================\n",
            "Total params: 25,692,038\n",
            "Trainable params: 25,638,918\n",
            "Non-trainable params: 53,120\n",
            "_________________________________________________________________\n",
            "Epoch 1/10\n",
            "617/617 [==============================] - 246s 399ms/step - loss: 0.5067 - accuracy: 0.8378 - val_loss: 18.0923 - val_accuracy: 0.6057\n",
            "Epoch 2/10\n",
            "617/617 [==============================] - 245s 397ms/step - loss: 0.2912 - accuracy: 0.9117 - val_loss: 1.9569 - val_accuracy: 0.8156\n",
            "Epoch 3/10\n",
            "617/617 [==============================] - 243s 394ms/step - loss: 0.1865 - accuracy: 0.9448 - val_loss: 0.9386 - val_accuracy: 0.8777\n",
            "Epoch 4/10\n",
            "617/617 [==============================] - 242s 392ms/step - loss: 0.1341 - accuracy: 0.9633 - val_loss: 1.0661 - val_accuracy: 0.8801\n",
            "Epoch 5/10\n",
            "617/617 [==============================] - 243s 394ms/step - loss: 0.1319 - accuracy: 0.9672 - val_loss: 2.2158 - val_accuracy: 0.8601\n",
            "Epoch 6/10\n",
            "617/617 [==============================] - 243s 393ms/step - loss: 0.1035 - accuracy: 0.9740 - val_loss: 0.7865 - val_accuracy: 0.8850\n",
            "Epoch 7/10\n",
            "617/617 [==============================] - 241s 390ms/step - loss: 0.0817 - accuracy: 0.9799 - val_loss: 1.0190 - val_accuracy: 0.8777\n",
            "Epoch 8/10\n",
            "617/617 [==============================] - 243s 394ms/step - loss: 0.0800 - accuracy: 0.9789 - val_loss: 2.6858 - val_accuracy: 0.8701\n",
            "Epoch 9/10\n",
            "617/617 [==============================] - 243s 394ms/step - loss: 0.0691 - accuracy: 0.9848 - val_loss: 16.8640 - val_accuracy: 0.7490\n",
            "Epoch 10/10\n",
            "617/617 [==============================] - 242s 393ms/step - loss: 0.0833 - accuracy: 0.9832 - val_loss: 1.3025 - val_accuracy: 0.8847\n",
            "82/82 [==============================] - 9s 114ms/step - loss: 1.0527 - accuracy: 0.8909\n"
          ],
          "name": "stdout"
        }
      ]
    },
    {
      "cell_type": "code",
      "metadata": {
        "id": "FBwYUL-nXwaw",
        "colab_type": "code",
        "outputId": "91f85bb1-aa30-447b-a20a-199dcb23939d",
        "colab": {
          "base_uri": "https://localhost:8080/",
          "height": 700
        }
      },
      "source": [
        "pooling_experiment('max')"
      ],
      "execution_count": 0,
      "outputs": [
        {
          "output_type": "stream",
          "text": [
            "Model: \"sequential_3\"\n",
            "_________________________________________________________________\n",
            "Layer (type)                 Output Shape              Param #   \n",
            "=================================================================\n",
            "resnet50 (Model)             (None, 2048)              23587712  \n",
            "_________________________________________________________________\n",
            "flatten_3 (Flatten)          (None, 2048)              0         \n",
            "_________________________________________________________________\n",
            "dense_6 (Dense)              (None, 1024)              2098176   \n",
            "_________________________________________________________________\n",
            "dropout_3 (Dropout)          (None, 1024)              0         \n",
            "_________________________________________________________________\n",
            "dense_7 (Dense)              (None, 6)                 6150      \n",
            "=================================================================\n",
            "Total params: 25,692,038\n",
            "Trainable params: 25,638,918\n",
            "Non-trainable params: 53,120\n",
            "_________________________________________________________________\n",
            "Epoch 1/10\n",
            "617/617 [==============================] - 246s 399ms/step - loss: 1.0209 - accuracy: 0.7966 - val_loss: 2.1609 - val_accuracy: 0.8083\n",
            "Epoch 2/10\n",
            "617/617 [==============================] - 245s 398ms/step - loss: 0.4779 - accuracy: 0.8869 - val_loss: 2.0785 - val_accuracy: 0.8275\n",
            "Epoch 3/10\n",
            "617/617 [==============================] - 244s 396ms/step - loss: 0.3541 - accuracy: 0.9188 - val_loss: 2.4010 - val_accuracy: 0.8591\n",
            "Epoch 4/10\n",
            "617/617 [==============================] - 244s 396ms/step - loss: 0.3500 - accuracy: 0.9376 - val_loss: 6.9236 - val_accuracy: 0.8366\n",
            "Epoch 5/10\n",
            "617/617 [==============================] - 244s 395ms/step - loss: 0.2873 - accuracy: 0.9462 - val_loss: 2.7168 - val_accuracy: 0.8330\n",
            "Epoch 6/10\n",
            "617/617 [==============================] - 248s 403ms/step - loss: 0.2422 - accuracy: 0.9571 - val_loss: 24.8123 - val_accuracy: 0.8044\n",
            "Epoch 7/10\n",
            "617/617 [==============================] - 242s 393ms/step - loss: 0.2296 - accuracy: 0.9605 - val_loss: 3.0227 - val_accuracy: 0.8695\n",
            "Epoch 8/10\n",
            "617/617 [==============================] - 244s 396ms/step - loss: 0.2680 - accuracy: 0.9655 - val_loss: 111.8907 - val_accuracy: 0.7350\n",
            "Epoch 9/10\n",
            "617/617 [==============================] - 244s 396ms/step - loss: 0.3099 - accuracy: 0.9635 - val_loss: 10.8432 - val_accuracy: 0.8305\n",
            "Epoch 10/10\n",
            "617/617 [==============================] - 245s 397ms/step - loss: 0.2267 - accuracy: 0.9678 - val_loss: 15.0333 - val_accuracy: 0.8166\n",
            "82/82 [==============================] - 9s 110ms/step - loss: 13.7113 - accuracy: 0.8146\n"
          ],
          "name": "stdout"
        }
      ]
    },
    {
      "cell_type": "code",
      "metadata": {
        "id": "ol_wwD2rXwSx",
        "colab_type": "code",
        "outputId": "1f10137f-ae97-4709-8829-2fdb3b5ef9d9",
        "colab": {
          "base_uri": "https://localhost:8080/",
          "height": 295
        }
      },
      "source": [
        "#visualizing the results for the training accuracy of each pooling method\n",
        "plt.plot(pool_history_of_model[0].history['accuracy'])\n",
        "plt.plot(pool_history_of_model[1].history['accuracy'])\n",
        "plt.plot(pool_history_of_model[2].history['accuracy'])\n",
        "plt.title('Pool Classification Accuracy')\n",
        "plt.ylabel('accuracy')\n",
        "plt.xlabel('epoch')\n",
        "plt.yticks(np.linspace(0, 1.0, 11))\n",
        "plt.legend(['No Pooling', 'Average Pooling', 'Max Pooling'])\n",
        "plt.savefig(\"pool_experiment_acc\", transparent=True)\n",
        "plt.show()"
      ],
      "execution_count": 0,
      "outputs": [
        {
          "output_type": "display_data",
          "data": {
            "image/png": "[encoded data removed]",
            "text/plain": [
              "<Figure size 432x288 with 1 Axes>"
            ]
          },
          "metadata": {
            "tags": [],
            "needs_background": "light"
          }
        }
      ]
    },
    {
      "cell_type": "code",
      "metadata": {
        "id": "yC-ECXAiXwPm",
        "colab_type": "code",
        "outputId": "fe4c535a-e90a-4d37-c110-7c19dc009feb",
        "colab": {
          "base_uri": "https://localhost:8080/",
          "height": 295
        }
      },
      "source": [
        "#visualizing the results for the validation accuracy of each pooling method\n",
        "plt.plot(pool_history_of_model[0].history['val_accuracy'])\n",
        "plt.plot(pool_history_of_model[1].history['val_accuracy'])\n",
        "plt.plot(pool_history_of_model[2].history['val_accuracy'])\n",
        "plt.title('Pool Classification Validation Accuracy')\n",
        "plt.ylabel('accuracy')\n",
        "plt.xlabel('epoch')\n",
        "plt.yticks(np.linspace(0, 1.0, 11))\n",
        "plt.legend(['No Pooling', 'Average Pooling', 'Max Pooling'])\n",
        "plt.savefig(\"pool_experiment_val_acc\", transparent=True)\n",
        "plt.show()"
      ],
      "execution_count": 0,
      "outputs": [
        {
          "output_type": "display_data",
          "data": {
            "image/png": "[encoded data removed]",
            "text/plain": [
              "<Figure size 432x288 with 1 Axes>"
            ]
          },
          "metadata": {
            "tags": [],
            "needs_background": "light"
          }
        }
      ]
    },
    {
      "cell_type": "markdown",
      "metadata": {
        "id": "9cwjUgycYhSd",
        "colab_type": "text"
      },
      "source": [
        "Conclusion: Average Pooling has a positive impact on the classification accuracy of the ResNet model whereas Max Pooling has a slight negative impact on the classification accuracy"
      ]
    }
  ]
}